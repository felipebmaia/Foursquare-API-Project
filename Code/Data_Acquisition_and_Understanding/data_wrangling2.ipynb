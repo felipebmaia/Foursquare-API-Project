{
 "cells": [
  {
   "cell_type": "code",
   "execution_count": 2,
   "metadata": {},
   "outputs": [],
   "source": [
    "import warnings\n",
    "warnings.filterwarnings(\"ignore\")\n",
    "import pandas as pd\n",
    "import numpy as np\n"
   ]
  },
  {
   "cell_type": "code",
   "execution_count": 3,
   "metadata": {},
   "outputs": [],
   "source": [
    "path = \"C:/Users/felip/Meu Drive (felipe.bmaia@al.infnet.edu.br)/infnet/developed projects/foursquare_API/novo/data_full_clean4.csv\""
   ]
  },
  {
   "cell_type": "code",
   "execution_count": 4,
   "metadata": {},
   "outputs": [],
   "source": [
    "df = pd.read_csv(path, sep=\";\")"
   ]
  },
  {
   "cell_type": "code",
   "execution_count": 5,
   "metadata": {},
   "outputs": [
    {
     "data": {
      "text/html": [
       "<div>\n",
       "<style scoped>\n",
       "    .dataframe tbody tr th:only-of-type {\n",
       "        vertical-align: middle;\n",
       "    }\n",
       "\n",
       "    .dataframe tbody tr th {\n",
       "        vertical-align: top;\n",
       "    }\n",
       "\n",
       "    .dataframe thead th {\n",
       "        text-align: right;\n",
       "    }\n",
       "</style>\n",
       "<table border=\"1\" class=\"dataframe\">\n",
       "  <thead>\n",
       "    <tr style=\"text-align: right;\">\n",
       "      <th></th>\n",
       "      <th>Column1</th>\n",
       "      <th>Unnamed: 0</th>\n",
       "      <th>fsq_id</th>\n",
       "      <th>categories</th>\n",
       "      <th>chains</th>\n",
       "      <th>distance</th>\n",
       "      <th>link</th>\n",
       "      <th>name</th>\n",
       "      <th>timezone</th>\n",
       "      <th>geocodes.main.latitude</th>\n",
       "      <th>...</th>\n",
       "      <th>location.locality</th>\n",
       "      <th>location.post_town</th>\n",
       "      <th>location.postcode</th>\n",
       "      <th>location.region</th>\n",
       "      <th>location.address_extended</th>\n",
       "      <th>related_places.parent.fsq_id</th>\n",
       "      <th>related_places.parent.name</th>\n",
       "      <th>related_places.children</th>\n",
       "      <th>location.neighborhood</th>\n",
       "      <th>Bairro</th>\n",
       "    </tr>\n",
       "  </thead>\n",
       "  <tbody>\n",
       "    <tr>\n",
       "      <th>0</th>\n",
       "      <td>0</td>\n",
       "      <td>0</td>\n",
       "      <td>4b927872f964a52010fc33e3</td>\n",
       "      <td>Vegan and Vegetarian Restaurant</td>\n",
       "      <td>[]</td>\n",
       "      <td>8400</td>\n",
       "      <td>/v3/places/4b927872f964a52010fc33e3</td>\n",
       "      <td>RefeitÃ³rio OrgÃ¢nico</td>\n",
       "      <td>America/Sao_Paulo</td>\n",
       "      <td>-22953341</td>\n",
       "      <td>...</td>\n",
       "      <td>Rio de Janeiro</td>\n",
       "      <td>Botafogo</td>\n",
       "      <td>22280-030</td>\n",
       "      <td>RJ</td>\n",
       "      <td>NaN</td>\n",
       "      <td>NaN</td>\n",
       "      <td>NaN</td>\n",
       "      <td>NaN</td>\n",
       "      <td>NaN</td>\n",
       "      <td>Botafogo</td>\n",
       "    </tr>\n",
       "    <tr>\n",
       "      <th>1</th>\n",
       "      <td>1</td>\n",
       "      <td>1</td>\n",
       "      <td>4c599758aeb7b7131f6a73cd</td>\n",
       "      <td>Vegan and Vegetarian Restaurant</td>\n",
       "      <td>[]</td>\n",
       "      <td>15730</td>\n",
       "      <td>/v3/places/4c599758aeb7b7131f6a73cd</td>\n",
       "      <td>Vegana ChÃ¡cara</td>\n",
       "      <td>America/Sao_Paulo</td>\n",
       "      <td>-22956535</td>\n",
       "      <td>...</td>\n",
       "      <td>Rio de Janeiro</td>\n",
       "      <td>Botafogo</td>\n",
       "      <td>22281-060</td>\n",
       "      <td>RJ</td>\n",
       "      <td>NaN</td>\n",
       "      <td>NaN</td>\n",
       "      <td>NaN</td>\n",
       "      <td>NaN</td>\n",
       "      <td>NaN</td>\n",
       "      <td>Botafogo</td>\n",
       "    </tr>\n",
       "    <tr>\n",
       "      <th>2</th>\n",
       "      <td>2</td>\n",
       "      <td>2</td>\n",
       "      <td>54be6130498e98618bda5cf5</td>\n",
       "      <td>Vegan and Vegetarian Restaurant</td>\n",
       "      <td>[]</td>\n",
       "      <td>15060</td>\n",
       "      <td>/v3/places/54be6130498e98618bda5cf5</td>\n",
       "      <td>Naturalie BistrÃ´</td>\n",
       "      <td>America/Sao_Paulo</td>\n",
       "      <td>-22956195</td>\n",
       "      <td>...</td>\n",
       "      <td>Rio de Janeiro</td>\n",
       "      <td>Botafogo</td>\n",
       "      <td>22271-021</td>\n",
       "      <td>RJ</td>\n",
       "      <td>NaN</td>\n",
       "      <td>NaN</td>\n",
       "      <td>NaN</td>\n",
       "      <td>NaN</td>\n",
       "      <td>NaN</td>\n",
       "      <td>Botafogo</td>\n",
       "    </tr>\n",
       "    <tr>\n",
       "      <th>3</th>\n",
       "      <td>3</td>\n",
       "      <td>3</td>\n",
       "      <td>50b692d0e4b0a577aea57423</td>\n",
       "      <td>Vegan and Vegetarian Restaurant</td>\n",
       "      <td>[]</td>\n",
       "      <td>19160</td>\n",
       "      <td>/v3/places/50b692d0e4b0a577aea57423</td>\n",
       "      <td>Gaia Art &amp; CafÃ©</td>\n",
       "      <td>America/Sao_Paulo</td>\n",
       "      <td>-22962374</td>\n",
       "      <td>...</td>\n",
       "      <td>Rio de Janeiro</td>\n",
       "      <td>Leme</td>\n",
       "      <td>22010-010</td>\n",
       "      <td>RJ</td>\n",
       "      <td>lj A</td>\n",
       "      <td>NaN</td>\n",
       "      <td>NaN</td>\n",
       "      <td>NaN</td>\n",
       "      <td>NaN</td>\n",
       "      <td>Botafogo</td>\n",
       "    </tr>\n",
       "    <tr>\n",
       "      <th>4</th>\n",
       "      <td>4</td>\n",
       "      <td>4</td>\n",
       "      <td>4b058727f964a520758222e3</td>\n",
       "      <td>Vegan and Vegetarian Restaurant</td>\n",
       "      <td>[]</td>\n",
       "      <td>17120</td>\n",
       "      <td>/v3/places/4b058727f964a520758222e3</td>\n",
       "      <td>Vegan Vegan</td>\n",
       "      <td>America/Sao_Paulo</td>\n",
       "      <td>-2295502</td>\n",
       "      <td>...</td>\n",
       "      <td>Rio de Janeiro</td>\n",
       "      <td>Botafogo</td>\n",
       "      <td>22270-016</td>\n",
       "      <td>RJ</td>\n",
       "      <td>lj B</td>\n",
       "      <td>NaN</td>\n",
       "      <td>NaN</td>\n",
       "      <td>NaN</td>\n",
       "      <td>NaN</td>\n",
       "      <td>Botafogo</td>\n",
       "    </tr>\n",
       "  </tbody>\n",
       "</table>\n",
       "<p>5 rows × 27 columns</p>\n",
       "</div>"
      ],
      "text/plain": [
       "   Column1  Unnamed: 0                    fsq_id  \\\n",
       "0        0           0  4b927872f964a52010fc33e3   \n",
       "1        1           1  4c599758aeb7b7131f6a73cd   \n",
       "2        2           2  54be6130498e98618bda5cf5   \n",
       "3        3           3  50b692d0e4b0a577aea57423   \n",
       "4        4           4  4b058727f964a520758222e3   \n",
       "\n",
       "                        categories chains  distance  \\\n",
       "0  Vegan and Vegetarian Restaurant     []      8400   \n",
       "1  Vegan and Vegetarian Restaurant     []     15730   \n",
       "2  Vegan and Vegetarian Restaurant     []     15060   \n",
       "3  Vegan and Vegetarian Restaurant     []     19160   \n",
       "4  Vegan and Vegetarian Restaurant     []     17120   \n",
       "\n",
       "                                  link                   name  \\\n",
       "0  /v3/places/4b927872f964a52010fc33e3  RefeitÃ³rio OrgÃ¢nico   \n",
       "1  /v3/places/4c599758aeb7b7131f6a73cd        Vegana ChÃ¡cara   \n",
       "2  /v3/places/54be6130498e98618bda5cf5      Naturalie BistrÃ´   \n",
       "3  /v3/places/50b692d0e4b0a577aea57423       Gaia Art & CafÃ©   \n",
       "4  /v3/places/4b058727f964a520758222e3            Vegan Vegan   \n",
       "\n",
       "            timezone  geocodes.main.latitude  ...  location.locality  \\\n",
       "0  America/Sao_Paulo               -22953341  ...     Rio de Janeiro   \n",
       "1  America/Sao_Paulo               -22956535  ...     Rio de Janeiro   \n",
       "2  America/Sao_Paulo               -22956195  ...     Rio de Janeiro   \n",
       "3  America/Sao_Paulo               -22962374  ...     Rio de Janeiro   \n",
       "4  America/Sao_Paulo                -2295502  ...     Rio de Janeiro   \n",
       "\n",
       "   location.post_town  location.postcode location.region  \\\n",
       "0            Botafogo          22280-030              RJ   \n",
       "1            Botafogo          22281-060              RJ   \n",
       "2            Botafogo          22271-021              RJ   \n",
       "3                Leme          22010-010              RJ   \n",
       "4            Botafogo          22270-016              RJ   \n",
       "\n",
       "  location.address_extended related_places.parent.fsq_id  \\\n",
       "0                       NaN                          NaN   \n",
       "1                       NaN                          NaN   \n",
       "2                       NaN                          NaN   \n",
       "3                      lj A                          NaN   \n",
       "4                      lj B                          NaN   \n",
       "\n",
       "  related_places.parent.name related_places.children location.neighborhood  \\\n",
       "0                        NaN                     NaN                   NaN   \n",
       "1                        NaN                     NaN                   NaN   \n",
       "2                        NaN                     NaN                   NaN   \n",
       "3                        NaN                     NaN                   NaN   \n",
       "4                        NaN                     NaN                   NaN   \n",
       "\n",
       "     Bairro  \n",
       "0  Botafogo  \n",
       "1  Botafogo  \n",
       "2  Botafogo  \n",
       "3  Botafogo  \n",
       "4  Botafogo  \n",
       "\n",
       "[5 rows x 27 columns]"
      ]
     },
     "execution_count": 5,
     "metadata": {},
     "output_type": "execute_result"
    }
   ],
   "source": [
    "df.head()"
   ]
  },
  {
   "cell_type": "code",
   "execution_count": 6,
   "metadata": {},
   "outputs": [],
   "source": [
    "df = df[[\"location.post_town\", \"geocodes.main.latitude\", \"geocodes.main.longitude\", \"name\", \"categories\", \"location.formatted_address\"]]"
   ]
  },
  {
   "cell_type": "code",
   "execution_count": 7,
   "metadata": {},
   "outputs": [
    {
     "data": {
      "text/html": [
       "<div>\n",
       "<style scoped>\n",
       "    .dataframe tbody tr th:only-of-type {\n",
       "        vertical-align: middle;\n",
       "    }\n",
       "\n",
       "    .dataframe tbody tr th {\n",
       "        vertical-align: top;\n",
       "    }\n",
       "\n",
       "    .dataframe thead th {\n",
       "        text-align: right;\n",
       "    }\n",
       "</style>\n",
       "<table border=\"1\" class=\"dataframe\">\n",
       "  <thead>\n",
       "    <tr style=\"text-align: right;\">\n",
       "      <th></th>\n",
       "      <th>location.post_town</th>\n",
       "      <th>geocodes.main.latitude</th>\n",
       "      <th>geocodes.main.longitude</th>\n",
       "      <th>name</th>\n",
       "      <th>categories</th>\n",
       "      <th>location.formatted_address</th>\n",
       "    </tr>\n",
       "  </thead>\n",
       "  <tbody>\n",
       "    <tr>\n",
       "      <th>0</th>\n",
       "      <td>Botafogo</td>\n",
       "      <td>-22953341</td>\n",
       "      <td>-43186139</td>\n",
       "      <td>RefeitÃ³rio OrgÃ¢nico</td>\n",
       "      <td>Vegan and Vegetarian Restaurant</td>\n",
       "      <td>Rua Dezenove de Fevereiro, 120 (R. Mena Barret...</td>\n",
       "    </tr>\n",
       "    <tr>\n",
       "      <th>1</th>\n",
       "      <td>Botafogo</td>\n",
       "      <td>-22956535</td>\n",
       "      <td>-43192739</td>\n",
       "      <td>Vegana ChÃ¡cara</td>\n",
       "      <td>Vegan and Vegetarian Restaurant</td>\n",
       "      <td>Rua Hans Staden, 30, Rio de Janeiro, RJ, 22281...</td>\n",
       "    </tr>\n",
       "    <tr>\n",
       "      <th>2</th>\n",
       "      <td>Botafogo</td>\n",
       "      <td>-22956195</td>\n",
       "      <td>-43192417</td>\n",
       "      <td>Naturalie BistrÃ´</td>\n",
       "      <td>Vegan and Vegetarian Restaurant</td>\n",
       "      <td>Rua Visconde de Caravelas, 11 (R. Real Grandez...</td>\n",
       "    </tr>\n",
       "  </tbody>\n",
       "</table>\n",
       "</div>"
      ],
      "text/plain": [
       "  location.post_town  geocodes.main.latitude  geocodes.main.longitude  \\\n",
       "0           Botafogo               -22953341                -43186139   \n",
       "1           Botafogo               -22956535                -43192739   \n",
       "2           Botafogo               -22956195                -43192417   \n",
       "\n",
       "                    name                       categories  \\\n",
       "0  RefeitÃ³rio OrgÃ¢nico  Vegan and Vegetarian Restaurant   \n",
       "1        Vegana ChÃ¡cara  Vegan and Vegetarian Restaurant   \n",
       "2      Naturalie BistrÃ´  Vegan and Vegetarian Restaurant   \n",
       "\n",
       "                          location.formatted_address  \n",
       "0  Rua Dezenove de Fevereiro, 120 (R. Mena Barret...  \n",
       "1  Rua Hans Staden, 30, Rio de Janeiro, RJ, 22281...  \n",
       "2  Rua Visconde de Caravelas, 11 (R. Real Grandez...  "
      ]
     },
     "execution_count": 7,
     "metadata": {},
     "output_type": "execute_result"
    }
   ],
   "source": [
    "df.head(3)"
   ]
  },
  {
   "cell_type": "code",
   "execution_count": 8,
   "metadata": {},
   "outputs": [
    {
     "data": {
      "text/plain": [
       "(4205, 6)"
      ]
     },
     "execution_count": 8,
     "metadata": {},
     "output_type": "execute_result"
    }
   ],
   "source": [
    "df.shape"
   ]
  },
  {
   "cell_type": "code",
   "execution_count": 9,
   "metadata": {},
   "outputs": [],
   "source": [
    "df = df.rename(columns={\"location.post_town\": \"neighborhood\", \"geocodes.main.latitude\": \"latitude\", \"geocodes.main.longitude\": \"longitude\", \"location.formatted_address\": \"address\"})"
   ]
  },
  {
   "cell_type": "code",
   "execution_count": 33,
   "metadata": {},
   "outputs": [
    {
     "data": {
      "text/html": [
       "<div>\n",
       "<style scoped>\n",
       "    .dataframe tbody tr th:only-of-type {\n",
       "        vertical-align: middle;\n",
       "    }\n",
       "\n",
       "    .dataframe tbody tr th {\n",
       "        vertical-align: top;\n",
       "    }\n",
       "\n",
       "    .dataframe thead th {\n",
       "        text-align: right;\n",
       "    }\n",
       "</style>\n",
       "<table border=\"1\" class=\"dataframe\">\n",
       "  <thead>\n",
       "    <tr style=\"text-align: right;\">\n",
       "      <th></th>\n",
       "      <th>neighborhood</th>\n",
       "      <th>latitude</th>\n",
       "      <th>longitude</th>\n",
       "      <th>name</th>\n",
       "      <th>categories</th>\n",
       "      <th>address</th>\n",
       "    </tr>\n",
       "  </thead>\n",
       "  <tbody>\n",
       "    <tr>\n",
       "      <th>0</th>\n",
       "      <td>Botafogo</td>\n",
       "      <td>-22953341</td>\n",
       "      <td>-43186139</td>\n",
       "      <td>RefeitÃ³rio OrgÃ¢nico</td>\n",
       "      <td>Vegan and Vegetarian Restaurant</td>\n",
       "      <td>Rua Dezenove de Fevereiro, 120 (R. Mena Barret...</td>\n",
       "    </tr>\n",
       "    <tr>\n",
       "      <th>1</th>\n",
       "      <td>Botafogo</td>\n",
       "      <td>-22956535</td>\n",
       "      <td>-43192739</td>\n",
       "      <td>Vegana ChÃ¡cara</td>\n",
       "      <td>Vegan and Vegetarian Restaurant</td>\n",
       "      <td>Rua Hans Staden, 30, Rio de Janeiro, RJ, 22281...</td>\n",
       "    </tr>\n",
       "    <tr>\n",
       "      <th>2</th>\n",
       "      <td>Botafogo</td>\n",
       "      <td>-22956195</td>\n",
       "      <td>-43192417</td>\n",
       "      <td>Naturalie BistrÃ´</td>\n",
       "      <td>Vegan and Vegetarian Restaurant</td>\n",
       "      <td>Rua Visconde de Caravelas, 11 (R. Real Grandez...</td>\n",
       "    </tr>\n",
       "  </tbody>\n",
       "</table>\n",
       "</div>"
      ],
      "text/plain": [
       "  neighborhood  latitude  longitude                   name  \\\n",
       "0     Botafogo -22953341  -43186139  RefeitÃ³rio OrgÃ¢nico   \n",
       "1     Botafogo -22956535  -43192739        Vegana ChÃ¡cara   \n",
       "2     Botafogo -22956195  -43192417      Naturalie BistrÃ´   \n",
       "\n",
       "                        categories  \\\n",
       "0  Vegan and Vegetarian Restaurant   \n",
       "1  Vegan and Vegetarian Restaurant   \n",
       "2  Vegan and Vegetarian Restaurant   \n",
       "\n",
       "                                             address  \n",
       "0  Rua Dezenove de Fevereiro, 120 (R. Mena Barret...  \n",
       "1  Rua Hans Staden, 30, Rio de Janeiro, RJ, 22281...  \n",
       "2  Rua Visconde de Caravelas, 11 (R. Real Grandez...  "
      ]
     },
     "execution_count": 33,
     "metadata": {},
     "output_type": "execute_result"
    }
   ],
   "source": [
    "df.head(3)"
   ]
  },
  {
   "cell_type": "code",
   "execution_count": 34,
   "metadata": {},
   "outputs": [],
   "source": [
    "df = df[[\"neighborhood\", \"latitude\", \"longitude\", \"name\", \"categories\"]]"
   ]
  },
  {
   "cell_type": "code",
   "execution_count": 35,
   "metadata": {},
   "outputs": [
    {
     "data": {
      "text/plain": [
       "neighborhood    0\n",
       "latitude        0\n",
       "longitude       0\n",
       "name            0\n",
       "categories      0\n",
       "dtype: int64"
      ]
     },
     "execution_count": 35,
     "metadata": {},
     "output_type": "execute_result"
    }
   ],
   "source": [
    "df.isnull().sum()"
   ]
  },
  {
   "cell_type": "code",
   "execution_count": 36,
   "metadata": {},
   "outputs": [
    {
     "data": {
      "text/plain": [
       "False    3462\n",
       "dtype: int64"
      ]
     },
     "execution_count": 36,
     "metadata": {},
     "output_type": "execute_result"
    }
   ],
   "source": [
    "df[[\"neighborhood\", \"latitude\", \"longitude\",\"name\"]].duplicated().value_counts()"
   ]
  },
  {
   "cell_type": "code",
   "execution_count": 13,
   "metadata": {},
   "outputs": [],
   "source": [
    "df = df.drop_duplicates(subset=[\"neighborhood\", \"latitude\", \"longitude\",\"name\"], keep=\"first\").reset_index(drop = True) "
   ]
  },
  {
   "cell_type": "code",
   "execution_count": 37,
   "metadata": {},
   "outputs": [],
   "source": [
    "df.to_csv(\"data_full_clean6.csv\")"
   ]
  },
  {
   "cell_type": "code",
   "execution_count": 38,
   "metadata": {},
   "outputs": [
    {
     "data": {
      "text/plain": [
       "(3462, 5)"
      ]
     },
     "execution_count": 38,
     "metadata": {},
     "output_type": "execute_result"
    }
   ],
   "source": [
    "df.shape"
   ]
  },
  {
   "cell_type": "code",
   "execution_count": 39,
   "metadata": {},
   "outputs": [
    {
     "data": {
      "text/html": [
       "<div>\n",
       "<style scoped>\n",
       "    .dataframe tbody tr th:only-of-type {\n",
       "        vertical-align: middle;\n",
       "    }\n",
       "\n",
       "    .dataframe tbody tr th {\n",
       "        vertical-align: top;\n",
       "    }\n",
       "\n",
       "    .dataframe thead th {\n",
       "        text-align: right;\n",
       "    }\n",
       "</style>\n",
       "<table border=\"1\" class=\"dataframe\">\n",
       "  <thead>\n",
       "    <tr style=\"text-align: right;\">\n",
       "      <th></th>\n",
       "      <th>neighborhood</th>\n",
       "      <th>latitude</th>\n",
       "      <th>longitude</th>\n",
       "      <th>name</th>\n",
       "      <th>categories</th>\n",
       "    </tr>\n",
       "  </thead>\n",
       "  <tbody>\n",
       "    <tr>\n",
       "      <th>0</th>\n",
       "      <td>Botafogo</td>\n",
       "      <td>-22953341</td>\n",
       "      <td>-43186139</td>\n",
       "      <td>RefeitÃ³rio OrgÃ¢nico</td>\n",
       "      <td>Vegan and Vegetarian Restaurant</td>\n",
       "    </tr>\n",
       "    <tr>\n",
       "      <th>1</th>\n",
       "      <td>Botafogo</td>\n",
       "      <td>-22956535</td>\n",
       "      <td>-43192739</td>\n",
       "      <td>Vegana ChÃ¡cara</td>\n",
       "      <td>Vegan and Vegetarian Restaurant</td>\n",
       "    </tr>\n",
       "  </tbody>\n",
       "</table>\n",
       "</div>"
      ],
      "text/plain": [
       "  neighborhood  latitude  longitude                   name  \\\n",
       "0     Botafogo -22953341  -43186139  RefeitÃ³rio OrgÃ¢nico   \n",
       "1     Botafogo -22956535  -43192739        Vegana ChÃ¡cara   \n",
       "\n",
       "                        categories  \n",
       "0  Vegan and Vegetarian Restaurant  \n",
       "1  Vegan and Vegetarian Restaurant  "
      ]
     },
     "execution_count": 39,
     "metadata": {},
     "output_type": "execute_result"
    }
   ],
   "source": [
    "df.head(2)"
   ]
  },
  {
   "cell_type": "code",
   "execution_count": null,
   "metadata": {},
   "outputs": [],
   "source": []
  },
  {
   "cell_type": "code",
   "execution_count": null,
   "metadata": {},
   "outputs": [],
   "source": []
  }
 ],
 "metadata": {
  "interpreter": {
   "hash": "ef1a5d0b392b78fa6b938496ed158b31a5708e64beeadf2ab287f2b43192d531"
  },
  "kernelspec": {
   "display_name": "Python 3.9.7 64-bit",
   "language": "python",
   "name": "python3"
  },
  "language_info": {
   "codemirror_mode": {
    "name": "ipython",
    "version": 3
   },
   "file_extension": ".py",
   "mimetype": "text/x-python",
   "name": "python",
   "nbconvert_exporter": "python",
   "pygments_lexer": "ipython3",
   "version": "3.9.7"
  },
  "orig_nbformat": 4
 },
 "nbformat": 4,
 "nbformat_minor": 2
}

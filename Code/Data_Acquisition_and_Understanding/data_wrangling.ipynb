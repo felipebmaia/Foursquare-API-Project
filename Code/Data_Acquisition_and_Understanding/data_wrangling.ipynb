{
 "cells": [
  {
   "cell_type": "markdown",
   "metadata": {},
   "source": [
    "#### Importando as Bibliotecas"
   ]
  },
  {
   "cell_type": "code",
   "execution_count": 388,
   "metadata": {},
   "outputs": [],
   "source": [
    "import warnings\n",
    "warnings.filterwarnings(\"ignore\")\n",
    "import pandas as pd\n",
    "import numpy as np\n"
   ]
  },
  {
   "cell_type": "markdown",
   "metadata": {},
   "source": [
    "#### Baixando os Datasets"
   ]
  },
  {
   "cell_type": "code",
   "execution_count": 200,
   "metadata": {},
   "outputs": [],
   "source": [
    "vegan = \"C:/Users/felip/Meu Drive (felipe.bmaia@al.infnet.edu.br)/infnet/developed projects/foursquare_API/novo/vegan_restaurant.csv\"\n",
    "cafes = \"C:/Users/felip/Meu Drive (felipe.bmaia@al.infnet.edu.br)/infnet/developed projects/foursquare_API/novo/cafes.csv\"\n",
    "comercio = \"C:/Users/felip/Meu Drive (felipe.bmaia@al.infnet.edu.br)/infnet/developed projects/foursquare_API/novo/comercio.csv\"\n",
    "hotels = \"C:/Users/felip/Meu Drive (felipe.bmaia@al.infnet.edu.br)/infnet/developed projects/foursquare_API/novo/hotels.csv\"\n",
    "italian = \"C:/Users/felip/Meu Drive (felipe.bmaia@al.infnet.edu.br)/infnet/developed projects/foursquare_API/novo/italian.csv\"\n",
    "japanese = \"C:/Users/felip/Meu Drive (felipe.bmaia@al.infnet.edu.br)/infnet/developed projects/foursquare_API/novo/japanese.csv\"\n",
    "professional_services = \"C:/Users/felip/Meu Drive (felipe.bmaia@al.infnet.edu.br)/infnet/developed projects/foursquare_API/novo/professional_services.csv\"\n",
    "restaurantes_diversos = \"C:/Users/felip/Meu Drive (felipe.bmaia@al.infnet.edu.br)/infnet/developed projects/foursquare_API/novo/restaurantes_diversos.csv\"\n",
    "shopping = \"C:/Users/felip/Meu Drive (felipe.bmaia@al.infnet.edu.br)/infnet/developed projects/foursquare_API/novo/shopping.csv\"\n",
    "\n"
   ]
  },
  {
   "cell_type": "code",
   "execution_count": 201,
   "metadata": {},
   "outputs": [],
   "source": [
    "vegan = pd.read_csv(vegan)\n",
    "cafes = pd.read_csv(cafes)\n",
    "comercio = pd.read_csv(comercio)\n",
    "hotels = pd.read_csv(hotels)\n",
    "italian = pd.read_csv(italian)\n",
    "japanese = pd.read_csv(japanese)\n",
    "professional_services = pd.read_csv(professional_services)\n",
    "restaurantes_diversos = pd.read_csv(restaurantes_diversos)\n",
    "shopping = pd.read_csv(shopping)\n",
    "\n",
    "# total 9 categorias"
   ]
  },
  {
   "cell_type": "markdown",
   "metadata": {},
   "source": [
    "#### Renomeando os valores da coluna \"categories\" "
   ]
  },
  {
   "cell_type": "code",
   "execution_count": 202,
   "metadata": {},
   "outputs": [],
   "source": [
    "vegan = vegan.assign(categories='Vegan and Vegetarian Restaurant')\n",
    "cafes = cafes.assign(categories='Cafes, Snack bars, Sweets')\n",
    "comercio = comercio.assign(categories='Retail')\n",
    "hotels = hotels.assign(categories='Hotels')\n",
    "italian = italian.assign(categories='Italian Restaurant')\n",
    "japanese = japanese.assign(categories='Japanese Restaurant')\n",
    "professional_services = professional_services.assign(categories='Professional Services')\n",
    "restaurantes_diversos = restaurantes_diversos.assign(categories='Various Restaurants')\n",
    "shopping = shopping.assign(categories='Mall and Galleries')"
   ]
  },
  {
   "cell_type": "markdown",
   "metadata": {},
   "source": [
    "#### Simplificando os DFs"
   ]
  },
  {
   "cell_type": "code",
   "execution_count": 203,
   "metadata": {},
   "outputs": [],
   "source": [
    "df = vegan\n",
    "df1 = cafes\n",
    "df2 = comercio\n",
    "df3 = hotels\n",
    "df4 = italian\n",
    "df5 = japanese\n",
    "df6 = professional_services\n",
    "df7 = restaurantes_diversos\n",
    "df8 = shopping\n"
   ]
  },
  {
   "cell_type": "markdown",
   "metadata": {},
   "source": [
    "#### Juntando os Data Frames"
   ]
  },
  {
   "cell_type": "code",
   "execution_count": 187,
   "metadata": {},
   "outputs": [],
   "source": [
    "# função concat  ---> df_concat = pd.concat([df1, df2])  ---> concatenando (todos possuem 26 colunas)"
   ]
  },
  {
   "cell_type": "code",
   "execution_count": 206,
   "metadata": {},
   "outputs": [],
   "source": [
    "df_full = pd.concat([df, df1, df2, df3, df4, df5, df6, df7, df8])"
   ]
  },
  {
   "cell_type": "code",
   "execution_count": 207,
   "metadata": {},
   "outputs": [
    {
     "data": {
      "text/plain": [
       "(4541, 26)"
      ]
     },
     "execution_count": 207,
     "metadata": {},
     "output_type": "execute_result"
    }
   ],
   "source": [
    "df_full.shape"
   ]
  },
  {
   "cell_type": "code",
   "execution_count": 298,
   "metadata": {},
   "outputs": [],
   "source": [
    "df_full.to_csv(\"data_full.csv\")\n",
    "\n",
    "df = pd.read_csv(\"data_full.csv\")"
   ]
  },
  {
   "cell_type": "code",
   "execution_count": 299,
   "metadata": {},
   "outputs": [
    {
     "data": {
      "text/plain": [
       "(4541, 27)"
      ]
     },
     "execution_count": 299,
     "metadata": {},
     "output_type": "execute_result"
    }
   ],
   "source": [
    "df.shape"
   ]
  },
  {
   "cell_type": "markdown",
   "metadata": {},
   "source": [
    "#### Removendo Colunas Desnecessárias"
   ]
  },
  {
   "cell_type": "code",
   "execution_count": 300,
   "metadata": {},
   "outputs": [],
   "source": [
    "df = df[[\"Bairro\", \"geocodes.main.latitude\", \"geocodes.main.longitude\", \"name\", \"categories\", \"location.formatted_address\"]]"
   ]
  },
  {
   "cell_type": "code",
   "execution_count": 301,
   "metadata": {},
   "outputs": [
    {
     "data": {
      "text/html": [
       "<div>\n",
       "<style scoped>\n",
       "    .dataframe tbody tr th:only-of-type {\n",
       "        vertical-align: middle;\n",
       "    }\n",
       "\n",
       "    .dataframe tbody tr th {\n",
       "        vertical-align: top;\n",
       "    }\n",
       "\n",
       "    .dataframe thead th {\n",
       "        text-align: right;\n",
       "    }\n",
       "</style>\n",
       "<table border=\"1\" class=\"dataframe\">\n",
       "  <thead>\n",
       "    <tr style=\"text-align: right;\">\n",
       "      <th></th>\n",
       "      <th>Bairro</th>\n",
       "      <th>geocodes.main.latitude</th>\n",
       "      <th>geocodes.main.longitude</th>\n",
       "      <th>name</th>\n",
       "      <th>categories</th>\n",
       "      <th>location.formatted_address</th>\n",
       "    </tr>\n",
       "  </thead>\n",
       "  <tbody>\n",
       "    <tr>\n",
       "      <th>0</th>\n",
       "      <td>Botafogo</td>\n",
       "      <td>-22.953341</td>\n",
       "      <td>-43.186139</td>\n",
       "      <td>Refeitório Orgânico</td>\n",
       "      <td>Vegan and Vegetarian Restaurant</td>\n",
       "      <td>Rua Dezenove de Fevereiro, 120 (R. Mena Barret...</td>\n",
       "    </tr>\n",
       "    <tr>\n",
       "      <th>1</th>\n",
       "      <td>Botafogo</td>\n",
       "      <td>-22.956535</td>\n",
       "      <td>-43.192739</td>\n",
       "      <td>Vegana Chácara</td>\n",
       "      <td>Vegan and Vegetarian Restaurant</td>\n",
       "      <td>Rua Hans Staden, 30, Rio de Janeiro, RJ, 22281...</td>\n",
       "    </tr>\n",
       "    <tr>\n",
       "      <th>2</th>\n",
       "      <td>Botafogo</td>\n",
       "      <td>-22.956195</td>\n",
       "      <td>-43.192417</td>\n",
       "      <td>Naturalie Bistrô</td>\n",
       "      <td>Vegan and Vegetarian Restaurant</td>\n",
       "      <td>Rua Visconde de Caravelas, 11 (R. Real Grandez...</td>\n",
       "    </tr>\n",
       "    <tr>\n",
       "      <th>3</th>\n",
       "      <td>Botafogo</td>\n",
       "      <td>-22.962374</td>\n",
       "      <td>-43.168412</td>\n",
       "      <td>Gaia Art &amp; Café</td>\n",
       "      <td>Vegan and Vegetarian Restaurant</td>\n",
       "      <td>Rua Gustavo Sampaio, 323, Rio de Janeiro, RJ, ...</td>\n",
       "    </tr>\n",
       "    <tr>\n",
       "      <th>4</th>\n",
       "      <td>Botafogo</td>\n",
       "      <td>-22.955020</td>\n",
       "      <td>-43.195212</td>\n",
       "      <td>Vegan Vegan</td>\n",
       "      <td>Vegan and Vegetarian Restaurant</td>\n",
       "      <td>Rua Voluntários da Pátria, 402 (R. Cde. de Ira...</td>\n",
       "    </tr>\n",
       "  </tbody>\n",
       "</table>\n",
       "</div>"
      ],
      "text/plain": [
       "     Bairro  geocodes.main.latitude  geocodes.main.longitude  \\\n",
       "0  Botafogo              -22.953341               -43.186139   \n",
       "1  Botafogo              -22.956535               -43.192739   \n",
       "2  Botafogo              -22.956195               -43.192417   \n",
       "3  Botafogo              -22.962374               -43.168412   \n",
       "4  Botafogo              -22.955020               -43.195212   \n",
       "\n",
       "                  name                       categories  \\\n",
       "0  Refeitório Orgânico  Vegan and Vegetarian Restaurant   \n",
       "1       Vegana Chácara  Vegan and Vegetarian Restaurant   \n",
       "2     Naturalie Bistrô  Vegan and Vegetarian Restaurant   \n",
       "3      Gaia Art & Café  Vegan and Vegetarian Restaurant   \n",
       "4          Vegan Vegan  Vegan and Vegetarian Restaurant   \n",
       "\n",
       "                          location.formatted_address  \n",
       "0  Rua Dezenove de Fevereiro, 120 (R. Mena Barret...  \n",
       "1  Rua Hans Staden, 30, Rio de Janeiro, RJ, 22281...  \n",
       "2  Rua Visconde de Caravelas, 11 (R. Real Grandez...  \n",
       "3  Rua Gustavo Sampaio, 323, Rio de Janeiro, RJ, ...  \n",
       "4  Rua Voluntários da Pátria, 402 (R. Cde. de Ira...  "
      ]
     },
     "execution_count": 301,
     "metadata": {},
     "output_type": "execute_result"
    }
   ],
   "source": [
    "df.head()"
   ]
  },
  {
   "cell_type": "markdown",
   "metadata": {},
   "source": [
    "#### Renomeando as colunas"
   ]
  },
  {
   "cell_type": "code",
   "execution_count": 302,
   "metadata": {},
   "outputs": [],
   "source": [
    "df = df.rename(columns={\"Bairro\": \"neighborhood\", \"geocodes.main.latitude\": \"latitude\", \"geocodes.main.longitude\": \"longitude\", \"location.formatted_address\": \"address\"})"
   ]
  },
  {
   "cell_type": "code",
   "execution_count": 316,
   "metadata": {},
   "outputs": [
    {
     "data": {
      "text/html": [
       "<div>\n",
       "<style scoped>\n",
       "    .dataframe tbody tr th:only-of-type {\n",
       "        vertical-align: middle;\n",
       "    }\n",
       "\n",
       "    .dataframe tbody tr th {\n",
       "        vertical-align: top;\n",
       "    }\n",
       "\n",
       "    .dataframe thead th {\n",
       "        text-align: right;\n",
       "    }\n",
       "</style>\n",
       "<table border=\"1\" class=\"dataframe\">\n",
       "  <thead>\n",
       "    <tr style=\"text-align: right;\">\n",
       "      <th></th>\n",
       "      <th>neighborhood</th>\n",
       "      <th>latitude</th>\n",
       "      <th>longitude</th>\n",
       "      <th>name</th>\n",
       "      <th>categories</th>\n",
       "      <th>address</th>\n",
       "    </tr>\n",
       "  </thead>\n",
       "  <tbody>\n",
       "    <tr>\n",
       "      <th>0</th>\n",
       "      <td>Botafogo</td>\n",
       "      <td>-22.953341</td>\n",
       "      <td>-43.186139</td>\n",
       "      <td>Refeitório Orgânico</td>\n",
       "      <td>Vegan and Vegetarian Restaurant</td>\n",
       "      <td>Rua Dezenove de Fevereiro, 120 (R. Mena Barret...</td>\n",
       "    </tr>\n",
       "    <tr>\n",
       "      <th>1</th>\n",
       "      <td>Botafogo</td>\n",
       "      <td>-22.956535</td>\n",
       "      <td>-43.192739</td>\n",
       "      <td>Vegana Chácara</td>\n",
       "      <td>Vegan and Vegetarian Restaurant</td>\n",
       "      <td>Rua Hans Staden, 30, Rio de Janeiro, RJ, 22281...</td>\n",
       "    </tr>\n",
       "  </tbody>\n",
       "</table>\n",
       "</div>"
      ],
      "text/plain": [
       "  neighborhood   latitude  longitude                 name  \\\n",
       "0     Botafogo -22.953341 -43.186139  Refeitório Orgânico   \n",
       "1     Botafogo -22.956535 -43.192739       Vegana Chácara   \n",
       "\n",
       "                        categories  \\\n",
       "0  Vegan and Vegetarian Restaurant   \n",
       "1  Vegan and Vegetarian Restaurant   \n",
       "\n",
       "                                             address  \n",
       "0  Rua Dezenove de Fevereiro, 120 (R. Mena Barret...  \n",
       "1  Rua Hans Staden, 30, Rio de Janeiro, RJ, 22281...  "
      ]
     },
     "execution_count": 316,
     "metadata": {},
     "output_type": "execute_result"
    }
   ],
   "source": [
    "df.head(2)"
   ]
  },
  {
   "cell_type": "code",
   "execution_count": 304,
   "metadata": {},
   "outputs": [],
   "source": [
    "df.to_csv(\"data_full_clean1.csv\")"
   ]
  },
  {
   "cell_type": "markdown",
   "metadata": {},
   "source": [
    "#### Removendo Valores Duplicados\n"
   ]
  },
  {
   "cell_type": "code",
   "execution_count": 317,
   "metadata": {},
   "outputs": [
    {
     "data": {
      "text/plain": [
       "False    3655\n",
       "True      886\n",
       "dtype: int64"
      ]
     },
     "execution_count": 317,
     "metadata": {},
     "output_type": "execute_result"
    }
   ],
   "source": [
    "# se a coluna name e address forem iguais ao mesmo tempo, se trata do mesmo estabelecimento\n",
    "df[[\"name\", \"address\"]].duplicated().value_counts()"
   ]
  },
  {
   "cell_type": "code",
   "execution_count": 318,
   "metadata": {},
   "outputs": [
    {
     "data": {
      "text/plain": [
       "(4541, 6)"
      ]
     },
     "execution_count": 318,
     "metadata": {},
     "output_type": "execute_result"
    }
   ],
   "source": [
    "df.shape"
   ]
  },
  {
   "cell_type": "code",
   "execution_count": 324,
   "metadata": {},
   "outputs": [],
   "source": [
    "df = df.drop_duplicates(subset=[\"name\",\"address\"], keep=\"first\").reset_index(drop = True) "
   ]
  },
  {
   "cell_type": "code",
   "execution_count": 368,
   "metadata": {},
   "outputs": [
    {
     "data": {
      "text/plain": [
       "(3655, 6)"
      ]
     },
     "execution_count": 368,
     "metadata": {},
     "output_type": "execute_result"
    }
   ],
   "source": [
    "df.shape"
   ]
  },
  {
   "cell_type": "code",
   "execution_count": 326,
   "metadata": {},
   "outputs": [],
   "source": [
    "df.to_csv(\"data_full_clean2.csv\")"
   ]
  },
  {
   "cell_type": "code",
   "execution_count": 330,
   "metadata": {},
   "outputs": [
    {
     "data": {
      "text/plain": [
       "neighborhood      0\n",
       "latitude          0\n",
       "longitude         0\n",
       "name              0\n",
       "categories        0\n",
       "address         113\n",
       "dtype: int64"
      ]
     },
     "execution_count": 330,
     "metadata": {},
     "output_type": "execute_result"
    }
   ],
   "source": [
    "df.isnull().sum()"
   ]
  },
  {
   "cell_type": "code",
   "execution_count": 367,
   "metadata": {},
   "outputs": [
    {
     "data": {
      "text/plain": [
       "False    3339\n",
       "True      316\n",
       "Name: name, dtype: int64"
      ]
     },
     "execution_count": 367,
     "metadata": {},
     "output_type": "execute_result"
    }
   ],
   "source": [
    "df[\"name\"].duplicated().value_counts()"
   ]
  },
  {
   "cell_type": "code",
   "execution_count": 384,
   "metadata": {},
   "outputs": [
    {
     "data": {
      "text/html": [
       "<div>\n",
       "<style scoped>\n",
       "    .dataframe tbody tr th:only-of-type {\n",
       "        vertical-align: middle;\n",
       "    }\n",
       "\n",
       "    .dataframe tbody tr th {\n",
       "        vertical-align: top;\n",
       "    }\n",
       "\n",
       "    .dataframe thead th {\n",
       "        text-align: right;\n",
       "    }\n",
       "</style>\n",
       "<table border=\"1\" class=\"dataframe\">\n",
       "  <thead>\n",
       "    <tr style=\"text-align: right;\">\n",
       "      <th></th>\n",
       "      <th>neighborhood</th>\n",
       "      <th>latitude</th>\n",
       "      <th>longitude</th>\n",
       "      <th>name</th>\n",
       "      <th>categories</th>\n",
       "      <th>address</th>\n",
       "    </tr>\n",
       "  </thead>\n",
       "  <tbody>\n",
       "    <tr>\n",
       "      <th>74</th>\n",
       "      <td>Ipanema</td>\n",
       "      <td>-22.984281</td>\n",
       "      <td>-43.213665</td>\n",
       "      <td>Hareburger</td>\n",
       "      <td>Vegan and Vegetarian Restaurant</td>\n",
       "      <td>Avenida Henrique Dumont, 68, Rio de Janeiro, R...</td>\n",
       "    </tr>\n",
       "    <tr>\n",
       "      <th>83</th>\n",
       "      <td>Ipanema</td>\n",
       "      <td>-22.984320</td>\n",
       "      <td>-43.213353</td>\n",
       "      <td>Hare Burger</td>\n",
       "      <td>Vegan and Vegetarian Restaurant</td>\n",
       "      <td>Avenida Henrique Dumont, 68, Rio de Janeiro, R...</td>\n",
       "    </tr>\n",
       "  </tbody>\n",
       "</table>\n",
       "</div>"
      ],
      "text/plain": [
       "   neighborhood   latitude  longitude         name  \\\n",
       "74      Ipanema -22.984281 -43.213665   Hareburger   \n",
       "83      Ipanema -22.984320 -43.213353  Hare Burger   \n",
       "\n",
       "                         categories  \\\n",
       "74  Vegan and Vegetarian Restaurant   \n",
       "83  Vegan and Vegetarian Restaurant   \n",
       "\n",
       "                                              address  \n",
       "74  Avenida Henrique Dumont, 68, Rio de Janeiro, R...  \n",
       "83  Avenida Henrique Dumont, 68, Rio de Janeiro, R...  "
      ]
     },
     "execution_count": 384,
     "metadata": {},
     "output_type": "execute_result"
    }
   ],
   "source": [
    "df[df[\"address\"] =='Avenida Henrique Dumont, 68, Rio de Janeiro, RJ, 22410-060']"
   ]
  },
  {
   "cell_type": "code",
   "execution_count": 385,
   "metadata": {},
   "outputs": [
    {
     "data": {
      "text/plain": [
       "False    3171\n",
       "True      484\n",
       "Name: address, dtype: int64"
      ]
     },
     "execution_count": 385,
     "metadata": {},
     "output_type": "execute_result"
    }
   ],
   "source": [
    "df[\"address\"].duplicated().value_counts()"
   ]
  }
 ],
 "metadata": {
  "interpreter": {
   "hash": "ef1a5d0b392b78fa6b938496ed158b31a5708e64beeadf2ab287f2b43192d531"
  },
  "kernelspec": {
   "display_name": "Python 3.9.7 64-bit",
   "language": "python",
   "name": "python3"
  },
  "language_info": {
   "codemirror_mode": {
    "name": "ipython",
    "version": 3
   },
   "file_extension": ".py",
   "mimetype": "text/x-python",
   "name": "python",
   "nbconvert_exporter": "python",
   "pygments_lexer": "ipython3",
   "version": "3.9.7"
  },
  "orig_nbformat": 4
 },
 "nbformat": 4,
 "nbformat_minor": 2
}
